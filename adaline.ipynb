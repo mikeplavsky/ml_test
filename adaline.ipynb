{
 "cells": [
  {
   "cell_type": "code",
   "execution_count": 14,
   "metadata": {
    "collapsed": false
   },
   "outputs": [],
   "source": [
    "import numpy as np\n",
    "import pandas as pd\n",
    "import matplotlib.pyplot as plt\n",
    "%matplotlib inline"
   ]
  },
  {
   "cell_type": "code",
   "execution_count": 13,
   "metadata": {
    "collapsed": true
   },
   "outputs": [],
   "source": [
    "df = pd.read_csv(\n",
    "    \"https://archive.ics.uci.edu/ml/machine-learning-databases/iris/iris.data\",\n",
    "    header=None)"
   ]
  },
  {
   "cell_type": "code",
   "execution_count": 17,
   "metadata": {
    "collapsed": true
   },
   "outputs": [],
   "source": [
    "y = df.iloc[0:100,4].values\n",
    "y = np.where(y == \"Iris-setosa\",-1,1)\n",
    "\n",
    "X = df.iloc[0:100,[0,2]].values"
   ]
  },
  {
   "cell_type": "code",
   "execution_count": 87,
   "metadata": {
    "collapsed": false
   },
   "outputs": [],
   "source": [
    "X_std = np.copy(X)\n",
    "\n",
    "X_std[:,0] = (X_std[:,0] - X_std[:,0].mean()) / X_std[:,0].std()\n",
    "X_std[:,1] = (X_std[:,1] - X_std[:,1].mean()) / X_std[:,1].std()"
   ]
  },
  {
   "cell_type": "code",
   "execution_count": 104,
   "metadata": {
    "collapsed": false
   },
   "outputs": [
    {
     "data": {
      "text/plain": [
       "[50.0,\n",
       " 28.415488968212976,\n",
       " 16.780969588333186,\n",
       " 10.456556040268048,\n",
       " 6.9839725338377221,\n",
       " 5.0548078870200843,\n",
       " 3.9686909880137522,\n",
       " 3.3480989083185704,\n",
       " 2.9878087560097302,\n",
       " 2.7751343134441782,\n",
       " 2.6474716092111135,\n",
       " 2.5695733758346408,\n",
       " 2.5212989889509503,\n",
       " 2.490955124423492,\n",
       " 2.4716390616283492]"
      ]
     },
     "execution_count": 104,
     "metadata": {},
     "output_type": "execute_result"
    }
   ],
   "source": [
    "import adaline\n",
    "\n",
    "import imp\n",
    "imp.reload(adaline)\n",
    "\n",
    "from adaline import AdalineGD\n",
    "\n",
    "ppn = AdalineGD(\n",
    "    eta=0.0095, \n",
    "    n_iter=15)\n",
    "\n",
    "ppn.fit(X_std,y)\n",
    "ppn.cost_"
   ]
  },
  {
   "cell_type": "code",
   "execution_count": 106,
   "metadata": {
    "collapsed": false
   },
   "outputs": [
    {
     "data": {
      "text/plain": [
       "<matplotlib.text.Text at 0x7f127fa44a90>"
      ]
     },
     "execution_count": 106,
     "metadata": {},
     "output_type": "execute_result"
    },
    {
     "data": {
      "image/png": "[encoded data removed]",
      "text/plain": [
       "<matplotlib.figure.Figure at 0x7f127f9d9b70>"
      ]
     },
     "metadata": {},
     "output_type": "display_data"
    }
   ],
   "source": [
    "plt.plot(\n",
    "    range(1,len(ppn.cost_) + 1),\n",
    "    ppn.cost_)\n",
    "\n",
    "plt.xlabel(\"Epochs\")\n",
    "plt.ylabel(\"Sum squared error\")"
   ]
  },
  {
   "cell_type": "code",
   "execution_count": 110,
   "metadata": {
    "collapsed": false
   },
   "outputs": [
    {
     "data": {
      "image/png": "[encoded data removed]",
      "text/plain": [
       "<matplotlib.figure.Figure at 0x7f127f89ab70>"
      ]
     },
     "metadata": {},
     "output_type": "display_data"
    }
   ],
   "source": [
    "import plot\n",
    "\n",
    "import imp\n",
    "imp.reload(plot)\n",
    "\n",
    "from plot import plot_decision_regions\n",
    "r = plot_decision_regions(X_std,y,ppn)"
   ]
  },
  {
   "cell_type": "code",
   "execution_count": 89,
   "metadata": {
    "collapsed": true
   },
   "outputs": [
    {
     "data": {
      "text/plain": [
       "[50.0,\n",
       " 45.119546965410365,\n",
       " 40.747029969696818,\n",
       " 36.829345680604931,\n",
       " 33.31895189163447,\n",
       " 30.173284784066631,\n",
       " 27.354237266825372,\n",
       " 24.827691991950275,\n",
       " 22.563103314564522,\n",
       " 20.533123066979854,\n",
       " 18.713265554363275,\n",
       " 17.081607660800284,\n",
       " 15.618520385535907,\n",
       " 14.306428514946722,\n",
       " 13.129595481130954,\n",
       " 12.073930767138078,\n",
       " 11.12681749558819,\n",
       " 10.276958085153035,\n",
       " 9.5142360811241993,\n",
       " 8.829592464802877]"
      ]
     },
     "execution_count": 89,
     "metadata": {},
     "output_type": "execute_result"
    }
   ],
   "source": [
    "import adaline\n",
    "\n",
    "import imp\n",
    "imp.reload(adaline)\n",
    "\n",
    "from adaline import AdalineGD\n",
    "\n",
    "ppn = AdalineGD(\n",
    "    eta=0.000489, \n",
    "    n_iter=20)\n",
    "\n",
    "ppn.fit(X,y)\n",
    "ppn.cost_"
   ]
  }
 ],
 "metadata": {
  "kernelspec": {
   "display_name": "Python 3",
   "language": "python",
   "name": "python3"
  },
  "language_info": {
   "codemirror_mode": {
    "name": "ipython",
    "version": 3
   },
   "file_extension": ".py",
   "mimetype": "text/x-python",
   "name": "python",
   "nbconvert_exporter": "python",
   "pygments_lexer": "ipython3",
   "version": "3.4.0"
  }
 },
 "nbformat": 4,
 "nbformat_minor": 0
}
