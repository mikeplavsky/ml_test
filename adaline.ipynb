{
 "cells": [
  {
   "cell_type": "code",
   "execution_count": 1,
   "metadata": {
    "collapsed": false
   },
   "outputs": [],
   "source": [
    "import numpy as np\n",
    "import pandas as pd\n",
    "import matplotlib.pyplot as plt\n",
    "%matplotlib inline"
   ]
  },
  {
   "cell_type": "code",
   "execution_count": 2,
   "metadata": {
    "collapsed": true
   },
   "outputs": [],
   "source": [
    "df = pd.read_csv(\n",
    "    \"https://archive.ics.uci.edu/ml/machine-learning-databases/iris/iris.data\",\n",
    "    header=None)"
   ]
  },
  {
   "cell_type": "code",
   "execution_count": 5,
   "metadata": {
    "collapsed": true
   },
   "outputs": [],
   "source": [
    "y = df.iloc[0:100,4].values\n",
    "y = np.where(y == \"Iris-setosa\",-1,1)\n",
    "\n",
    "X = df.iloc[0:100,[0,2]].values"
   ]
  },
  {
   "cell_type": "code",
   "execution_count": 4,
   "metadata": {
    "collapsed": false
   },
   "outputs": [],
   "source": [
    "X_std = np.copy(X)\n",
    "\n",
    "X_std[:,0] = (X_std[:,0] - X_std[:,0].mean()) / X_std[:,0].std()\n",
    "X_std[:,1] = (X_std[:,1] - X_std[:,1].mean()) / X_std[:,1].std()"
   ]
  },
  {
   "cell_type": "code",
   "execution_count": 15,
   "metadata": {
    "collapsed": false
   },
   "outputs": [
    {
     "data": {
      "text/plain": [
       "(100, 2)"
      ]
     },
     "execution_count": 15,
     "metadata": {},
     "output_type": "execute_result"
    }
   ],
   "source": [
    "X_std.shape"
   ]
  },
  {
   "cell_type": "code",
   "execution_count": 19,
   "metadata": {
    "collapsed": false
   },
   "outputs": [
    {
     "name": "stdout",
     "output_type": "stream",
     "text": [
      "[  1.91957561e-16  -1.38130035e-01   1.08219284e+00]\n"
     ]
    },
    {
     "data": {
      "text/plain": [
       "[50.0,\n",
       " 28.415488968212976,\n",
       " 16.780969588333186,\n",
       " 10.456556040268048,\n",
       " 6.9839725338377221,\n",
       " 5.0548078870200843,\n",
       " 3.9686909880137522,\n",
       " 3.3480989083185704,\n",
       " 2.9878087560097302,\n",
       " 2.7751343134441782,\n",
       " 2.6474716092111135,\n",
       " 2.5695733758346408,\n",
       " 2.5212989889509503,\n",
       " 2.490955124423492,\n",
       " 2.4716390616283492]"
      ]
     },
     "execution_count": 19,
     "metadata": {},
     "output_type": "execute_result"
    }
   ],
   "source": [
    "import adaline\n",
    "\n",
    "import imp\n",
    "imp.reload(adaline)\n",
    "\n",
    "from adaline import AdalineGD\n",
    "\n",
    "ppn = AdalineGD(\n",
    "    eta=0.0095, \n",
    "    n_iter=15)\n",
    "\n",
    "ppn.fit(X_std,y)\n",
    "\n",
    "print(ppn.w_)\n",
    "ppn.cost_"
   ]
  },
  {
   "cell_type": "code",
   "execution_count": 21,
   "metadata": {
    "collapsed": false,
    "scrolled": false
   },
   "outputs": [
    {
     "data": {
      "text/plain": [
       "array([-0.13813004,  1.08219284])"
      ]
     },
     "execution_count": 21,
     "metadata": {},
     "output_type": "execute_result"
    }
   ],
   "source": [
    "ppn.w_[1:]"
   ]
  },
  {
   "cell_type": "code",
   "execution_count": 28,
   "metadata": {
    "collapsed": false
   },
   "outputs": [
    {
     "data": {
      "text/plain": [
       "1.9195756095768958e-16"
      ]
     },
     "execution_count": 28,
     "metadata": {},
     "output_type": "execute_result"
    }
   ],
   "source": [
    "ppn.w_[0]"
   ]
  },
  {
   "cell_type": "code",
   "execution_count": 29,
   "metadata": {
    "collapsed": false
   },
   "outputs": [
    {
     "data": {
      "text/plain": [
       "array([-1.01746995, -0.97420167, -1.0060177 , -0.83421495, -0.99583581,\n",
       "       -0.85711944, -0.90929926, -0.9207515 , -0.86603098, -0.89911736,\n",
       "       -1.00728805, -0.80239891, -0.95256753, -1.06964977, -1.31907754,\n",
       "       -1.07219047, -1.15745667, -1.01746995, -0.92202185, -0.94238564,\n",
       "       -0.85711944, -0.94238564, -1.20963649, -0.79221702, -0.57714599,\n",
       "       -0.84566719, -0.84566719, -0.96401978, -1.03910409, -0.78076478,\n",
       "       -0.80239891, -1.00728805, -0.96401978, -1.1040065 , -0.89911736,\n",
       "       -1.14600443, -1.17909081, -0.89911736, -0.94111529, -0.94238564,\n",
       "       -1.07092012, -0.96274943, -0.94111529, -0.84566719, -0.6420484 ,\n",
       "       -0.95256753, -0.86730133, -0.90929926, -0.98565392, -0.99583581,\n",
       "        1.04926363,  1.02889984,  1.22106639,  0.84818554,  1.08235001,\n",
       "        1.18033881,  1.2007026 ,  0.45240021,  1.06071587,  0.83800365,\n",
       "        0.58093469,  0.9118176 ,  0.74001485,  1.24397087,  0.52621416,\n",
       "        0.88891312,  1.20197295,  0.85836743,  1.07216812,  0.75146709,\n",
       "        1.36232346,  0.71838071,  1.35087122,  1.24397087,  0.87873122,\n",
       "        0.91054725,  1.16761621,  1.33941897,  1.11543639,  0.42949572,\n",
       "        0.69801692,  0.62293261,  0.70819882,  1.56594225,  1.24524122,\n",
       "        1.11543639,  1.11416604,  0.97544967,  0.90163571,  0.84818554,\n",
       "        1.14852278,  1.16888657,  0.78328312,  0.43076607,  0.97672002,\n",
       "        0.95508588,  0.95508588,  0.9219995 ,  0.183879  ,  0.88000157])"
      ]
     },
     "execution_count": 29,
     "metadata": {},
     "output_type": "execute_result"
    }
   ],
   "source": [
    "np.dot(X_std,ppn.w_[1:]) + ppn.w_[0]"
   ]
  },
  {
   "cell_type": "code",
   "execution_count": 20,
   "metadata": {
    "collapsed": false
   },
   "outputs": [
    {
     "data": {
      "text/plain": [
       "<matplotlib.text.Text at 0x7fac7c9b4ba8>"
      ]
     },
     "execution_count": 20,
     "metadata": {},
     "output_type": "execute_result"
    },
    {
     "data": {
      "image/png": "[encoded data removed]",
      "text/plain": [
       "<matplotlib.figure.Figure at 0x7fac7c9efc18>"
      ]
     },
     "metadata": {},
     "output_type": "display_data"
    }
   ],
   "source": [
    "plt.plot(\n",
    "    range(1,len(ppn.cost_) + 1),\n",
    "    ppn.cost_)\n",
    "\n",
    "plt.xlabel(\"Epochs\")\n",
    "plt.ylabel(\"Sum squared error\")"
   ]
  },
  {
   "cell_type": "code",
   "execution_count": 9,
   "metadata": {
    "collapsed": false
   },
   "outputs": [
    {
     "data": {
      "image/png": "[encoded data removed]",
      "text/plain": [
       "<matplotlib.figure.Figure at 0x7fac7eb0f2b0>"
      ]
     },
     "metadata": {},
     "output_type": "display_data"
    }
   ],
   "source": [
    "import plot\n",
    "\n",
    "import imp\n",
    "imp.reload(plot)\n",
    "\n",
    "from plot import plot_decision_regions\n",
    "r = plot_decision_regions(X_std,y,ppn)"
   ]
  },
  {
   "cell_type": "code",
   "execution_count": 13,
   "metadata": {
    "collapsed": false
   },
   "outputs": [
    {
     "data": {
      "text/plain": [
       "[50.0,\n",
       " 2230.8539602550009,\n",
       " 3475977.0425619688,\n",
       " 5423372722.5878334,\n",
       " 8461791557634.333,\n",
       " 13202470134517626.0,\n",
       " 2.0599091394023031e+19,\n",
       " 3.2139634624124621e+22,\n",
       " 5.0145712449819458e+25,\n",
       " 7.8239609955381337e+28,\n",
       " 1.2207298025919747e+32,\n",
       " 1.9046378832742979e+35,\n",
       " 2.9717022216554565e+38,\n",
       " 4.6365842933935659e+41,\n",
       " 7.2342086475165013e+44,\n",
       " 1.1287139722741652e+48,\n",
       " 1.7610706205498871e+51,\n",
       " 2.7477020810819214e+54,\n",
       " 4.287089136734621e+57,\n",
       " 6.6889104873666398e+60]"
      ]
     },
     "execution_count": 13,
     "metadata": {},
     "output_type": "execute_result"
    }
   ],
   "source": [
    "import adaline\n",
    "\n",
    "import imp\n",
    "imp.reload(adaline)\n",
    "\n",
    "from adaline import AdalineGD\n",
    "\n",
    "ppn = AdalineGD(\n",
    "    eta=0.01, \n",
    "    n_iter=20)\n",
    "\n",
    "ppn.fit(X,y)\n",
    "ppn.cost_"
   ]
  },
  {
   "cell_type": "code",
   "execution_count": 14,
   "metadata": {
    "collapsed": false
   },
   "outputs": [
    {
     "data": {
      "text/plain": [
       "<matplotlib.text.Text at 0x7fac7eb2ae80>"
      ]
     },
     "execution_count": 14,
     "metadata": {},
     "output_type": "execute_result"
    },
    {
     "data": {
      "image/png": "[encoded data removed]",
      "text/plain": [
       "<matplotlib.figure.Figure at 0x7fac7ca3f358>"
      ]
     },
     "metadata": {},
     "output_type": "display_data"
    }
   ],
   "source": [
    "plt.plot(\n",
    "    range(1,len(ppn.cost_) + 1),\n",
    "    ppn.cost_)\n",
    "\n",
    "plt.xlabel(\"Epochs\")\n",
    "plt.ylabel(\"Sum squared error\")"
   ]
  },
  {
   "cell_type": "code",
   "execution_count": null,
   "metadata": {
    "collapsed": true
   },
   "outputs": [],
   "source": []
  }
 ],
 "metadata": {
  "kernelspec": {
   "display_name": "Python 3",
   "language": "python",
   "name": "python3"
  },
  "language_info": {
   "codemirror_mode": {
    "name": "ipython",
    "version": 3
   },
   "file_extension": ".py",
   "mimetype": "text/x-python",
   "name": "python",
   "nbconvert_exporter": "python",
   "pygments_lexer": "ipython3",
   "version": "3.4.0"
  }
 },
 "nbformat": 4,
 "nbformat_minor": 0
}
