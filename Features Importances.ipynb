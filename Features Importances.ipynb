{
 "cells": [
  {
   "cell_type": "code",
   "execution_count": 78,
   "metadata": {
    "collapsed": false
   },
   "outputs": [],
   "source": [
    "import pandas as pd\n",
    "df_wine = pd.read_csv(\n",
    "    \"https://archive.ics.uci.edu/ml/machine-learning-databases/wine/wine.data\",\n",
    "    header=None)"
   ]
  },
  {
   "cell_type": "code",
   "execution_count": 79,
   "metadata": {
    "collapsed": false
   },
   "outputs": [],
   "source": [
    "columns = [\n",
    "    \"Class label\",\n",
    "    \"Alcohol\",\n",
    "    \"Malic acid\",\n",
    "    \"Ash\",\n",
    "    \"Alcalinity of ash\",\n",
    "    \"Magnesium\",\n",
    "    \"Total phenols\",\n",
    "    \"Flavanoids\",\n",
    "    \"Nonflavanoid phenols\",\n",
    "    \"Proanthocyanins\",\n",
    "    \"Color intensity\",\n",
    "    \"Hue\",\n",
    "    \"OD280/OD315 of diluted wines\",\n",
    "    \"Proline\"]"
   ]
  },
  {
   "cell_type": "code",
   "execution_count": 80,
   "metadata": {
    "collapsed": true
   },
   "outputs": [],
   "source": [
    "df_wine.columns=columns"
   ]
  },
  {
   "cell_type": "code",
   "execution_count": 81,
   "metadata": {
    "collapsed": false
   },
   "outputs": [],
   "source": [
    "X,y=df_wine.iloc[:,1:].values, df_wine.iloc[:,0].values"
   ]
  },
  {
   "cell_type": "code",
   "execution_count": 82,
   "metadata": {
    "collapsed": true
   },
   "outputs": [],
   "source": [
    "from sklearn.cross_validation import train_test_split\n",
    "X_train,X_test,y_train,y_test = train_test_split(X,y,test_size=0.3,random_state=0)"
   ]
  },
  {
   "cell_type": "code",
   "execution_count": 83,
   "metadata": {
    "collapsed": false
   },
   "outputs": [
    {
     "data": {
      "text/plain": [
       "array([ 0.10658906,  0.02539968,  0.01391619,  0.03203319,  0.02207807,\n",
       "        0.0607176 ,  0.15094795,  0.01464516,  0.02235112,  0.18248262,\n",
       "        0.07824279,  0.1319868 ,  0.15860977])"
      ]
     },
     "execution_count": 83,
     "metadata": {},
     "output_type": "execute_result"
    }
   ],
   "source": [
    "from sklearn.ensemble import RandomForestClassifier\n",
    "clsf = RandomForestClassifier(\n",
    "    n_estimators=10000,\n",
    "    random_state=0,\n",
    "    n_jobs=-1)\n",
    "\n",
    "clsf.fit(X_train,y_train)\n",
    "clsf.feature_importances_"
   ]
  },
  {
   "cell_type": "code",
   "execution_count": 84,
   "metadata": {
    "collapsed": false
   },
   "outputs": [],
   "source": [
    "import numpy as np\n",
    "\n",
    "indices = np.argsort(clsf.feature_importances_)[::-1]\n",
    "labels = df_wine.columns[1:]\n",
    "features = clsf.feature_importances_"
   ]
  },
  {
   "cell_type": "code",
   "execution_count": 85,
   "metadata": {
    "collapsed": false
   },
   "outputs": [
    {
     "name": "stdout",
     "output_type": "stream",
     "text": [
      "Color intensity \n",
      " 0.182482616331\n",
      "Proline \n",
      " 0.158609774392\n",
      "Flavanoids \n",
      " 0.150947947978\n",
      "OD280/OD315 of diluted wines \n",
      " 0.131986797428\n",
      "Alcohol \n",
      " 0.106589061225\n",
      "Hue \n",
      " 0.0782427880969\n",
      "Total phenols \n",
      " 0.0607175986515\n",
      "Alcalinity of ash \n",
      " 0.0320331912092\n",
      "Malic acid \n",
      " 0.0253996783254\n",
      "Proanthocyanins \n",
      " 0.0223511224704\n",
      "Magnesium \n",
      " 0.0220780740408\n",
      "Nonflavanoid phenols \n",
      " 0.0146451608766\n",
      "Ash \n",
      " 0.0139161889755\n"
     ]
    }
   ],
   "source": [
    "for i in range(X_train.shape[1]):\n",
    "    print(labels[indices[i]],\"\\n\",\n",
    "        features[indices[i]])"
   ]
  },
  {
   "cell_type": "code",
   "execution_count": 98,
   "metadata": {
    "collapsed": false
   },
   "outputs": [
    {
     "data": {
      "image/png": "[encoded data removed]",
      "text/plain": [
       "<matplotlib.figure.Figure at 0x7f71c68414a8>"
      ]
     },
     "metadata": {},
     "output_type": "display_data"
    }
   ],
   "source": [
    "import matplotlib.pyplot as plt\n",
    "%matplotlib inline\n",
    "\n",
    "plt.bar(\n",
    "    range(X_train.shape[1]),\n",
    "    features[indices], \n",
    "    color=\"lightblue\",\n",
    "    align=\"center\")\n",
    "\n",
    "z = plt.xticks(\n",
    "    range(X_train.shape[1]),\n",
    "    labels[indices],\n",
    "    rotation=90)"
   ]
  }
 ],
 "metadata": {
  "kernelspec": {
   "display_name": "Python 3",
   "language": "python",
   "name": "python3"
  },
  "language_info": {
   "codemirror_mode": {
    "name": "ipython",
    "version": 3
   },
   "file_extension": ".py",
   "mimetype": "text/x-python",
   "name": "python",
   "nbconvert_exporter": "python",
   "pygments_lexer": "ipython3",
   "version": "3.4.0"
  }
 },
 "nbformat": 4,
 "nbformat_minor": 0
}
