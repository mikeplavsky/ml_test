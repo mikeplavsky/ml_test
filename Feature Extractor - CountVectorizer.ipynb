{
 "cells": [
  {
   "cell_type": "markdown",
   "metadata": {},
   "source": [
    "http://amueller.github.io/sklearn_tutorial/#/23"
   ]
  },
  {
   "cell_type": "code",
   "execution_count": 3,
   "metadata": {
    "collapsed": false,
    "scrolled": false
   },
   "outputs": [
    {
     "name": "stdout",
     "output_type": "stream",
     "text": [
      "(3947,)\n",
      "(3947,)\n",
      "\"shut the fuck up. you and the rest of your faggot friends should be burned at the stake\"\n",
      "1\n"
     ]
    }
   ],
   "source": [
    "import pandas as pd\n",
    "import numpy as np\n",
    "\n",
    "train_data = pd.read_csv(\"insults.csv\")\n",
    "test_data = pd.read_csv(\"test_insults.csv\")\n",
    "\n",
    "y_train = np.array(train_data.Insult)\n",
    "print(y_train.shape)\n",
    "\n",
    "comments_train = np.array(train_data.Comment)\n",
    "print(comments_train.shape)\n",
    "\n",
    "print(comments_train[7])\n",
    "print(y_train[7])\n"
   ]
  },
  {
   "cell_type": "code",
   "execution_count": 6,
   "metadata": {
    "collapsed": false,
    "scrolled": true
   },
   "outputs": [
    {
     "name": "stdout",
     "output_type": "stream",
     "text": [
      "16469\n",
      "(3947, 16469)\n",
      "\"Either you are fake or extremely stupid...maybe both...\"\n",
      "  (0, 806)\t1\n",
      "  (0, 983)\t1\n",
      "  (0, 1955)\t1\n",
      "  (0, 4075)\t1\n",
      "  (0, 5679)\t1\n",
      "  (0, 8316)\t1\n",
      "  (0, 9455)\t1\n",
      "  (0, 9915)\t1\n",
      "  (0, 10010)\t1\n",
      "  (0, 13510)\t1\n",
      "  (0, 13525)\t1\n",
      "  (0, 15164)\t1\n",
      "  (0, 16397)\t1\n",
      "<class 'scipy.sparse.csr.csr_matrix'>\n",
      "1\n"
     ]
    }
   ],
   "source": [
    "from sklearn.feature_extraction.text import CountVectorizer\n",
    "cv = CountVectorizer()\n",
    "\n",
    "cv.fit(comments_train)\n",
    "\n",
    "fns = cv.get_feature_names()\n",
    "print(len(fns))\n",
    "\n",
    "X_train = cv.transform(comments_train).tocsr()\n",
    "\n",
    "print(X_train.shape)\n",
    "print(comments_train[8])\n",
    "print(X_train[200,:])\n",
    "print(type(X_train[8]))\n",
    "print(y_train[8])\n"
   ]
  },
  {
   "cell_type": "code",
   "execution_count": 44,
   "metadata": {
    "collapsed": false
   },
   "outputs": [
    {
     "data": {
      "text/plain": [
       "<3947x16469 sparse matrix of type '<class 'numpy.int64'>'\n",
       "\twith 100269 stored elements in Compressed Sparse Row format>"
      ]
     },
     "execution_count": 44,
     "metadata": {},
     "output_type": "execute_result"
    }
   ],
   "source": [
    "X_train"
   ]
  },
  {
   "cell_type": "code",
   "execution_count": 10,
   "metadata": {
    "collapsed": false
   },
   "outputs": [
    {
     "name": "stdout",
     "output_type": "stream",
     "text": [
      "[[ 0.         -0.15140345  0.04202328 ...,  0.         -0.18799862\n",
      "  -0.15673764]]\n",
      "(1, 16469)\n",
      "0.9987332151\n",
      "0.830374008311\n"
     ]
    }
   ],
   "source": [
    "from sklearn.svm import LinearSVC\n",
    "svm = LinearSVC()\n",
    "\n",
    "svm.fit(X_train, y_train)\n",
    "print(svm.coef_)\n",
    "print(svm.coef_.shape)\n",
    "\n",
    "comments_test = np.array(test_data.Comment)\n",
    "\n",
    "X_test = cv.transform(comments_test)\n",
    "y_test = np.array(test_data.Insult)\n",
    "\n",
    "print(svm.score(X_train,y_train))\n",
    "print(svm.score(X_test,y_test))"
   ]
  }
 ],
 "metadata": {
  "kernelspec": {
   "display_name": "Python 3",
   "language": "python",
   "name": "python3"
  },
  "language_info": {
   "codemirror_mode": {
    "name": "ipython",
    "version": 3
   },
   "file_extension": ".py",
   "mimetype": "text/x-python",
   "name": "python",
   "nbconvert_exporter": "python",
   "pygments_lexer": "ipython3",
   "version": "3.4.0"
  }
 },
 "nbformat": 4,
 "nbformat_minor": 0
}
