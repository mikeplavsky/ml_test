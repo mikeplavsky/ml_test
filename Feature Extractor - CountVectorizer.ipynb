{
 "cells": [
  {
   "cell_type": "markdown",
   "metadata": {},
   "source": [
    "http://amueller.github.io/sklearn_tutorial/#/23"
   ]
  },
  {
   "cell_type": "code",
   "execution_count": 55,
   "metadata": {
    "collapsed": false,
    "scrolled": true
   },
   "outputs": [
    {
     "name": "stdout",
     "output_type": "stream",
     "text": [
      "(3947,)\n",
      "(3947, 16469)\n"
     ]
    }
   ],
   "source": [
    "import pandas as pd\n",
    "import numpy as np\n",
    "\n",
    "train_data = pd.read_csv(\"insults.csv\")\n",
    "test_data = pd.read_csv(\"test_insults.csv\")\n",
    "\n",
    "y_train = np.array(train_data.Insult)\n",
    "print(y_train.shape)\n",
    "\n",
    "comments_train = np.array(train_data.Comment)\n",
    "print(X_train.shape)\n",
    "\n"
   ]
  },
  {
   "cell_type": "code",
   "execution_count": 56,
   "metadata": {
    "collapsed": false,
    "scrolled": true
   },
   "outputs": [
    {
     "name": "stdout",
     "output_type": "stream",
     "text": [
      "16469\n",
      "(3947, 16469)\n",
      "  (0, 3409)\t1\n",
      "  (0, 5434)\t1\n",
      "  (0, 16397)\t1\n",
      "  (0, 16405)\t1\n"
     ]
    }
   ],
   "source": [
    "from sklearn.feature_extraction.text import CountVectorizer\n",
    "cv = CountVectorizer()\n",
    "\n",
    "cv.fit(comments_train)\n",
    "print(len(cv.get_feature_names()))\n",
    "\n",
    "X_train = cv.transform(comments_train).tocsr()\n",
    "\n",
    "print(X_train.shape)\n",
    "print(X_train[0,:])\n"
   ]
  },
  {
   "cell_type": "code",
   "execution_count": 72,
   "metadata": {
    "collapsed": false
   },
   "outputs": [
    {
     "name": "stdout",
     "output_type": "stream",
     "text": [
      "0.9987332151\n",
      "0.830374008311\n"
     ]
    }
   ],
   "source": [
    "from sklearn.svm import LinearSVC\n",
    "svm = LinearSVC()\n",
    "\n",
    "svm.fit(X_train, y_train)\n",
    "\n",
    "comments_test = np.array(test_data.Comment)\n",
    "\n",
    "X_test = cv.transform(comments_test)\n",
    "y_test = np.array(test_data.Insult)\n",
    "\n",
    "print(svm.score(X_train,y_train))\n",
    "print(svm.score(X_test,y_test))"
   ]
  }
 ],
 "metadata": {
  "kernelspec": {
   "display_name": "Python 3",
   "language": "python",
   "name": "python3"
  },
  "language_info": {
   "codemirror_mode": {
    "name": "ipython",
    "version": 3
   },
   "file_extension": ".py",
   "mimetype": "text/x-python",
   "name": "python",
   "nbconvert_exporter": "python",
   "pygments_lexer": "ipython3",
   "version": "3.4.0"
  }
 },
 "nbformat": 4,
 "nbformat_minor": 0
}
