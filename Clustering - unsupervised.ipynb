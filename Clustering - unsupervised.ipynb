{
 "cells": [
  {
   "cell_type": "code",
   "execution_count": 34,
   "metadata": {
    "collapsed": true
   },
   "outputs": [],
   "source": [
    "import numpy as np\n",
    "import matplotlib.pyplot as plt\n",
    "%matplotlib inline"
   ]
  },
  {
   "cell_type": "code",
   "execution_count": 35,
   "metadata": {
    "collapsed": false,
    "scrolled": true
   },
   "outputs": [
    {
     "data": {
      "image/png": "[encoded data removed]",
      "text/plain": [
       "<matplotlib.figure.Figure at 0x7f6c3457ff28>"
      ]
     },
     "metadata": {},
     "output_type": "display_data"
    }
   ],
   "source": [
    "from sklearn.datasets import make_blobs\n",
    "\n",
    "X,_= make_blobs(\n",
    "    n_samples=150, \n",
    "    n_features=2,\n",
    "    centers=4,\n",
    "    cluster_std=0.5,\n",
    "    shuffle=True)\n",
    "\n",
    "import matplotlib.pyplot as plot\n",
    "%matplotlib inline\n",
    "\n",
    "plot.scatter(\n",
    "    X[:,0],\n",
    "    X[:,1],\n",
    "    c=\"white\",\n",
    "    marker=\"o\",\n",
    "    s=50)\n",
    "\n",
    "plot.grid()\n",
    "\n",
    "from sklearn.cluster import KMeans\n",
    "\n",
    "km = KMeans(\n",
    "    init=\"random\",\n",
    "    n_clusters=4,\n",
    "    n_init=10, \n",
    "    max_iter=300, \n",
    "    tol=1e-04,\n",
    "    random_state=0)\n",
    "\n",
    "y_km = km.fit_predict(X)\n",
    "\n",
    "plot.scatter(\n",
    "    X[y_km == 0,0],\n",
    "    X[y_km == 0,1],\n",
    "    c=\"lightgreen\",\n",
    "    marker=\"s\",\n",
    "    s=50)\n",
    "\n",
    "plot.scatter(\n",
    "    X[y_km == 1,0],\n",
    "    X[y_km == 1,1],\n",
    "    c=\"orange\",\n",
    "    marker=\"o\",\n",
    "    s=50)\n",
    "\n",
    "plot.scatter(\n",
    "    X[y_km == 2,0],\n",
    "    X[y_km == 2,1],\n",
    "    c=\"lightblue\",\n",
    "    marker=\"o\",\n",
    "    s=50)\n",
    "\n",
    "r = plot.scatter(\n",
    "    km.cluster_centers_[:,0], \n",
    "    km.cluster_centers_[:,1], \n",
    "    c=\"red\",\n",
    "    marker=\"*\",\n",
    "    s=200)"
   ]
  },
  {
   "cell_type": "code",
   "execution_count": 36,
   "metadata": {
    "collapsed": false,
    "scrolled": true
   },
   "outputs": [
    {
     "data": {
      "text/plain": [
       "OneClassSVM(cache_size=200, coef0=0.0, degree=3, gamma='auto', kernel='rbf',\n",
       "      max_iter=-1, nu=0.01, random_state=None, shrinking=True, tol=0.001,\n",
       "      verbose=False)"
      ]
     },
     "execution_count": 36,
     "metadata": {},
     "output_type": "execute_result"
    }
   ],
   "source": [
    "from sklearn.svm import OneClassSVM\n",
    "\n",
    "clf = OneClassSVM(nu=0.01)\n",
    "clf.fit(X)"
   ]
  },
  {
   "cell_type": "code",
   "execution_count": 38,
   "metadata": {
    "collapsed": false
   },
   "outputs": [
    {
     "data": {
      "image/png": "[encoded data removed]",
      "text/plain": [
       "<matplotlib.figure.Figure at 0x7f6c3418ddd8>"
      ]
     },
     "metadata": {},
     "output_type": "display_data"
    }
   ],
   "source": [
    "xx, yy = np.meshgrid(np.linspace(-15, 15, 500), np.linspace(-15, 15, 500))\n",
    "\n",
    "Z = clf.decision_function(np.c_[xx.ravel(), yy.ravel()])\n",
    "Z = Z.reshape(xx.shape)\n",
    "\n",
    "plt.title(\"Novelty Detection\")\n",
    "\n",
    "plt.contourf(\n",
    "    xx, yy, Z, levels=np.linspace(Z.min(), 0, 7), cmap=plt.cm.Blues_r)\n",
    "\n",
    "a = plt.contour(\n",
    "    xx, yy, Z, levels=[0], linewidths=2, colors='red')\n",
    "\n",
    "z = plt.contourf(xx, yy, Z, levels=[0, Z.max()], colors='orange')"
   ]
  }
 ],
 "metadata": {
  "kernelspec": {
   "display_name": "Python 3",
   "language": "python",
   "name": "python3"
  },
  "language_info": {
   "codemirror_mode": {
    "name": "ipython",
    "version": 3
   },
   "file_extension": ".py",
   "mimetype": "text/x-python",
   "name": "python",
   "nbconvert_exporter": "python",
   "pygments_lexer": "ipython3",
   "version": "3.4.0"
  }
 },
 "nbformat": 4,
 "nbformat_minor": 0
}
