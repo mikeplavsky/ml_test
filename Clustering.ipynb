{
 "cells": [
  {
   "cell_type": "code",
   "execution_count": 186,
   "metadata": {
    "collapsed": false,
    "scrolled": false
   },
   "outputs": [
    {
     "data": {
      "text/plain": [
       "<matplotlib.collections.PathCollection at 0x7f2f3b0788d0>"
      ]
     },
     "execution_count": 186,
     "metadata": {},
     "output_type": "execute_result"
    },
    {
     "data": {
      "image/png": "[encoded data removed]",
      "text/plain": [
       "<matplotlib.figure.Figure at 0x7f2f3b1216d8>"
      ]
     },
     "metadata": {},
     "output_type": "display_data"
    }
   ],
   "source": [
    "from sklearn.datasets import make_blobs\n",
    "\n",
    "X,_= make_blobs(\n",
    "    n_samples=150, \n",
    "    n_features=2,\n",
    "    centers=3,\n",
    "    cluster_std=0.5,\n",
    "    shuffle=True)\n",
    "\n",
    "import matplotlib.pyplot as plot\n",
    "%matplotlib inline\n",
    "\n",
    "plot.scatter(\n",
    "    X[:,0],\n",
    "    X[:,1],\n",
    "    c=\"white\",\n",
    "    marker=\"o\",\n",
    "    s=50)\n",
    "\n",
    "plot.grid()\n",
    "\n",
    "from sklearn.cluster import KMeans\n",
    "\n",
    "km = KMeans(\n",
    "    init=\"random\",\n",
    "    n_clusters=3,\n",
    "    n_init=10, \n",
    "    max_iter=300, \n",
    "    tol=1e-04,\n",
    "    random_state=0)\n",
    "\n",
    "y_km = km.fit_predict(X)\n",
    "\n",
    "plot.scatter(\n",
    "    X[y_km == 0,0],\n",
    "    X[y_km == 0,1],\n",
    "    c=\"lightgreen\",\n",
    "    marker=\"s\",\n",
    "    s=50)\n",
    "\n",
    "plot.scatter(\n",
    "    X[y_km == 1,0],\n",
    "    X[y_km == 1,1],\n",
    "    c=\"orange\",\n",
    "    marker=\"o\",\n",
    "    s=50)\n",
    "\n",
    "plot.scatter(\n",
    "    X[y_km == 2,0],\n",
    "    X[y_km == 2,1],\n",
    "    c=\"lightblue\",\n",
    "    marker=\"o\",\n",
    "    s=50)\n",
    "\n",
    "plot.scatter(\n",
    "    km.cluster_centers_[:,0], \n",
    "    km.cluster_centers_[:,1], \n",
    "    c=\"red\",\n",
    "    marker=\"*\",\n",
    "    s=200)"
   ]
  }
 ],
 "metadata": {
  "kernelspec": {
   "display_name": "Python 3",
   "language": "python",
   "name": "python3"
  },
  "language_info": {
   "codemirror_mode": {
    "name": "ipython",
    "version": 3
   },
   "file_extension": ".py",
   "mimetype": "text/x-python",
   "name": "python",
   "nbconvert_exporter": "python",
   "pygments_lexer": "ipython3",
   "version": "3.4.0"
  }
 },
 "nbformat": 4,
 "nbformat_minor": 0
}
